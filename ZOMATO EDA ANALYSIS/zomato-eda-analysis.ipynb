{
 "cells": [
  {
   "cell_type": "code",
   "execution_count": 1,
   "id": "e2b2c4da",
   "metadata": {
    "_cell_guid": "b1076dfc-b9ad-4769-8c92-a6c4dae69d19",
    "_uuid": "8f2839f25d086af736a60e9eeb907d3b93b6e0e5",
    "execution": {
     "iopub.execute_input": "2023-08-05T17:53:20.365675Z",
     "iopub.status.busy": "2023-08-05T17:53:20.365251Z",
     "iopub.status.idle": "2023-08-05T17:53:20.383830Z",
     "shell.execute_reply": "2023-08-05T17:53:20.382705Z"
    },
    "papermill": {
     "duration": 0.035251,
     "end_time": "2023-08-05T17:53:20.386546",
     "exception": false,
     "start_time": "2023-08-05T17:53:20.351295",
     "status": "completed"
    },
    "tags": []
   },
   "outputs": [
    {
     "name": "stdout",
     "output_type": "stream",
     "text": [
      "/kaggle/input/zomato-dataset/zomato.csv\n"
     ]
    }
   ],
   "source": [
    "# This Python 3 environment comes with many helpful analytics libraries installed\n",
    "# It is defined by the kaggle/python Docker image: https://github.com/kaggle/docker-python\n",
    "# For example, here's several helpful packages to load\n",
    "\n",
    "import numpy as np # linear algebra\n",
    "import pandas as pd # data processing, CSV file I/O (e.g. pd.read_csv)\n",
    "\n",
    "# Input data files are available in the read-only \"../input/\" directory\n",
    "# For example, running this (by clicking run or pressing Shift+Enter) will list all files under the input directory\n",
    "\n",
    "import os\n",
    "for dirname, _, filenames in os.walk('/kaggle/input'):\n",
    "    for filename in filenames:\n",
    "        print(os.path.join(dirname, filename))\n",
    "\n",
    "# You can write up to 20GB to the current directory (/kaggle/working/) that gets preserved as output when you create a version using \"Save & Run All\" \n",
    "# You can also write temporary files to /kaggle/temp/, but they won't be saved outside of the current session"
   ]
  },
  {
   "cell_type": "markdown",
   "id": "426bc418",
   "metadata": {
    "papermill": {
     "duration": 0.011711,
     "end_time": "2023-08-05T17:53:20.410621",
     "exception": false,
     "start_time": "2023-08-05T17:53:20.398910",
     "status": "completed"
    },
    "tags": []
   },
   "source": [
    "## 1. Importing important libraries"
   ]
  },
  {
   "cell_type": "code",
   "execution_count": 2,
   "id": "5d418912",
   "metadata": {
    "execution": {
     "iopub.execute_input": "2023-08-05T17:53:20.436612Z",
     "iopub.status.busy": "2023-08-05T17:53:20.436223Z",
     "iopub.status.idle": "2023-08-05T17:53:22.969324Z",
     "shell.execute_reply": "2023-08-05T17:53:22.968250Z"
    },
    "papermill": {
     "duration": 2.549345,
     "end_time": "2023-08-05T17:53:22.972043",
     "exception": false,
     "start_time": "2023-08-05T17:53:20.422698",
     "status": "completed"
    },
    "tags": []
   },
   "outputs": [],
   "source": [
    "import warnings\n",
    "warnings.filterwarnings(\"ignore\")\n",
    "import pandas as pd\n",
    "import numpy as np\n",
    "# Visualization libraries\n",
    "import matplotlib.pyplot as plt\n",
    "import seaborn as sns\n",
    "import plotly.express as px"
   ]
  },
  {
   "cell_type": "markdown",
   "id": "8fde2f0d",
   "metadata": {
    "papermill": {
     "duration": 0.011823,
     "end_time": "2023-08-05T17:53:22.996176",
     "exception": false,
     "start_time": "2023-08-05T17:53:22.984353",
     "status": "completed"
    },
    "tags": []
   },
   "source": [
    "## 2. Importing the Data"
   ]
  },
  {
   "cell_type": "code",
   "execution_count": 3,
   "id": "30b67870",
   "metadata": {
    "execution": {
     "iopub.execute_input": "2023-08-05T17:53:23.024453Z",
     "iopub.status.busy": "2023-08-05T17:53:23.023348Z",
     "iopub.status.idle": "2023-08-05T17:53:35.475383Z",
     "shell.execute_reply": "2023-08-05T17:53:35.473728Z"
    },
    "papermill": {
     "duration": 12.468824,
     "end_time": "2023-08-05T17:53:35.478682",
     "exception": false,
     "start_time": "2023-08-05T17:53:23.009858",
     "status": "completed"
    },
    "tags": []
   },
   "outputs": [],
   "source": [
    "df = pd.read_csv(\"/kaggle/input/zomato-dataset/zomato.csv\")"
   ]
  },
  {
   "cell_type": "code",
   "execution_count": 4,
   "id": "3dbc0f39",
   "metadata": {
    "execution": {
     "iopub.execute_input": "2023-08-05T17:53:35.505823Z",
     "iopub.status.busy": "2023-08-05T17:53:35.505355Z",
     "iopub.status.idle": "2023-08-05T17:53:35.537949Z",
     "shell.execute_reply": "2023-08-05T17:53:35.536567Z"
    },
    "papermill": {
     "duration": 0.049424,
     "end_time": "2023-08-05T17:53:35.540603",
     "exception": false,
     "start_time": "2023-08-05T17:53:35.491179",
     "status": "completed"
    },
    "tags": []
   },
   "outputs": [
    {
     "data": {
      "text/html": [
       "<div>\n",
       "<style scoped>\n",
       "    .dataframe tbody tr th:only-of-type {\n",
       "        vertical-align: middle;\n",
       "    }\n",
       "\n",
       "    .dataframe tbody tr th {\n",
       "        vertical-align: top;\n",
       "    }\n",
       "\n",
       "    .dataframe thead th {\n",
       "        text-align: right;\n",
       "    }\n",
       "</style>\n",
       "<table border=\"1\" class=\"dataframe\">\n",
       "  <thead>\n",
       "    <tr style=\"text-align: right;\">\n",
       "      <th></th>\n",
       "      <th>url</th>\n",
       "      <th>address</th>\n",
       "      <th>name</th>\n",
       "      <th>online_order</th>\n",
       "      <th>book_table</th>\n",
       "      <th>rate</th>\n",
       "      <th>votes</th>\n",
       "      <th>phone</th>\n",
       "      <th>location</th>\n",
       "      <th>rest_type</th>\n",
       "      <th>dish_liked</th>\n",
       "      <th>cuisines</th>\n",
       "      <th>approx_cost(for two people)</th>\n",
       "      <th>reviews_list</th>\n",
       "      <th>menu_item</th>\n",
       "      <th>listed_in(type)</th>\n",
       "      <th>listed_in(city)</th>\n",
       "    </tr>\n",
       "  </thead>\n",
       "  <tbody>\n",
       "    <tr>\n",
       "      <th>0</th>\n",
       "      <td>https://www.zomato.com/bangalore/jalsa-banasha...</td>\n",
       "      <td>942, 21st Main Road, 2nd Stage, Banashankari, ...</td>\n",
       "      <td>Jalsa</td>\n",
       "      <td>Yes</td>\n",
       "      <td>Yes</td>\n",
       "      <td>4.1/5</td>\n",
       "      <td>775</td>\n",
       "      <td>080 42297555\\r\\n+91 9743772233</td>\n",
       "      <td>Banashankari</td>\n",
       "      <td>Casual Dining</td>\n",
       "      <td>Pasta, Lunch Buffet, Masala Papad, Paneer Laja...</td>\n",
       "      <td>North Indian, Mughlai, Chinese</td>\n",
       "      <td>800</td>\n",
       "      <td>[('Rated 4.0', 'RATED\\n  A beautiful place to ...</td>\n",
       "      <td>[]</td>\n",
       "      <td>Buffet</td>\n",
       "      <td>Banashankari</td>\n",
       "    </tr>\n",
       "    <tr>\n",
       "      <th>1</th>\n",
       "      <td>https://www.zomato.com/bangalore/spice-elephan...</td>\n",
       "      <td>2nd Floor, 80 Feet Road, Near Big Bazaar, 6th ...</td>\n",
       "      <td>Spice Elephant</td>\n",
       "      <td>Yes</td>\n",
       "      <td>No</td>\n",
       "      <td>4.1/5</td>\n",
       "      <td>787</td>\n",
       "      <td>080 41714161</td>\n",
       "      <td>Banashankari</td>\n",
       "      <td>Casual Dining</td>\n",
       "      <td>Momos, Lunch Buffet, Chocolate Nirvana, Thai G...</td>\n",
       "      <td>Chinese, North Indian, Thai</td>\n",
       "      <td>800</td>\n",
       "      <td>[('Rated 4.0', 'RATED\\n  Had been here for din...</td>\n",
       "      <td>[]</td>\n",
       "      <td>Buffet</td>\n",
       "      <td>Banashankari</td>\n",
       "    </tr>\n",
       "    <tr>\n",
       "      <th>2</th>\n",
       "      <td>https://www.zomato.com/SanchurroBangalore?cont...</td>\n",
       "      <td>1112, Next to KIMS Medical College, 17th Cross...</td>\n",
       "      <td>San Churro Cafe</td>\n",
       "      <td>Yes</td>\n",
       "      <td>No</td>\n",
       "      <td>3.8/5</td>\n",
       "      <td>918</td>\n",
       "      <td>+91 9663487993</td>\n",
       "      <td>Banashankari</td>\n",
       "      <td>Cafe, Casual Dining</td>\n",
       "      <td>Churros, Cannelloni, Minestrone Soup, Hot Choc...</td>\n",
       "      <td>Cafe, Mexican, Italian</td>\n",
       "      <td>800</td>\n",
       "      <td>[('Rated 3.0', \"RATED\\n  Ambience is not that ...</td>\n",
       "      <td>[]</td>\n",
       "      <td>Buffet</td>\n",
       "      <td>Banashankari</td>\n",
       "    </tr>\n",
       "    <tr>\n",
       "      <th>3</th>\n",
       "      <td>https://www.zomato.com/bangalore/addhuri-udupi...</td>\n",
       "      <td>1st Floor, Annakuteera, 3rd Stage, Banashankar...</td>\n",
       "      <td>Addhuri Udupi Bhojana</td>\n",
       "      <td>No</td>\n",
       "      <td>No</td>\n",
       "      <td>3.7/5</td>\n",
       "      <td>88</td>\n",
       "      <td>+91 9620009302</td>\n",
       "      <td>Banashankari</td>\n",
       "      <td>Quick Bites</td>\n",
       "      <td>Masala Dosa</td>\n",
       "      <td>South Indian, North Indian</td>\n",
       "      <td>300</td>\n",
       "      <td>[('Rated 4.0', \"RATED\\n  Great food and proper...</td>\n",
       "      <td>[]</td>\n",
       "      <td>Buffet</td>\n",
       "      <td>Banashankari</td>\n",
       "    </tr>\n",
       "    <tr>\n",
       "      <th>4</th>\n",
       "      <td>https://www.zomato.com/bangalore/grand-village...</td>\n",
       "      <td>10, 3rd Floor, Lakshmi Associates, Gandhi Baza...</td>\n",
       "      <td>Grand Village</td>\n",
       "      <td>No</td>\n",
       "      <td>No</td>\n",
       "      <td>3.8/5</td>\n",
       "      <td>166</td>\n",
       "      <td>+91 8026612447\\r\\n+91 9901210005</td>\n",
       "      <td>Basavanagudi</td>\n",
       "      <td>Casual Dining</td>\n",
       "      <td>Panipuri, Gol Gappe</td>\n",
       "      <td>North Indian, Rajasthani</td>\n",
       "      <td>600</td>\n",
       "      <td>[('Rated 4.0', 'RATED\\n  Very good restaurant ...</td>\n",
       "      <td>[]</td>\n",
       "      <td>Buffet</td>\n",
       "      <td>Banashankari</td>\n",
       "    </tr>\n",
       "  </tbody>\n",
       "</table>\n",
       "</div>"
      ],
      "text/plain": [
       "                                                 url  \\\n",
       "0  https://www.zomato.com/bangalore/jalsa-banasha...   \n",
       "1  https://www.zomato.com/bangalore/spice-elephan...   \n",
       "2  https://www.zomato.com/SanchurroBangalore?cont...   \n",
       "3  https://www.zomato.com/bangalore/addhuri-udupi...   \n",
       "4  https://www.zomato.com/bangalore/grand-village...   \n",
       "\n",
       "                                             address                   name  \\\n",
       "0  942, 21st Main Road, 2nd Stage, Banashankari, ...                  Jalsa   \n",
       "1  2nd Floor, 80 Feet Road, Near Big Bazaar, 6th ...         Spice Elephant   \n",
       "2  1112, Next to KIMS Medical College, 17th Cross...        San Churro Cafe   \n",
       "3  1st Floor, Annakuteera, 3rd Stage, Banashankar...  Addhuri Udupi Bhojana   \n",
       "4  10, 3rd Floor, Lakshmi Associates, Gandhi Baza...          Grand Village   \n",
       "\n",
       "  online_order book_table   rate  votes                             phone  \\\n",
       "0          Yes        Yes  4.1/5    775    080 42297555\\r\\n+91 9743772233   \n",
       "1          Yes         No  4.1/5    787                      080 41714161   \n",
       "2          Yes         No  3.8/5    918                    +91 9663487993   \n",
       "3           No         No  3.7/5     88                    +91 9620009302   \n",
       "4           No         No  3.8/5    166  +91 8026612447\\r\\n+91 9901210005   \n",
       "\n",
       "       location            rest_type  \\\n",
       "0  Banashankari        Casual Dining   \n",
       "1  Banashankari        Casual Dining   \n",
       "2  Banashankari  Cafe, Casual Dining   \n",
       "3  Banashankari          Quick Bites   \n",
       "4  Basavanagudi        Casual Dining   \n",
       "\n",
       "                                          dish_liked  \\\n",
       "0  Pasta, Lunch Buffet, Masala Papad, Paneer Laja...   \n",
       "1  Momos, Lunch Buffet, Chocolate Nirvana, Thai G...   \n",
       "2  Churros, Cannelloni, Minestrone Soup, Hot Choc...   \n",
       "3                                        Masala Dosa   \n",
       "4                                Panipuri, Gol Gappe   \n",
       "\n",
       "                         cuisines approx_cost(for two people)  \\\n",
       "0  North Indian, Mughlai, Chinese                         800   \n",
       "1     Chinese, North Indian, Thai                         800   \n",
       "2          Cafe, Mexican, Italian                         800   \n",
       "3      South Indian, North Indian                         300   \n",
       "4        North Indian, Rajasthani                         600   \n",
       "\n",
       "                                        reviews_list menu_item  \\\n",
       "0  [('Rated 4.0', 'RATED\\n  A beautiful place to ...        []   \n",
       "1  [('Rated 4.0', 'RATED\\n  Had been here for din...        []   \n",
       "2  [('Rated 3.0', \"RATED\\n  Ambience is not that ...        []   \n",
       "3  [('Rated 4.0', \"RATED\\n  Great food and proper...        []   \n",
       "4  [('Rated 4.0', 'RATED\\n  Very good restaurant ...        []   \n",
       "\n",
       "  listed_in(type) listed_in(city)  \n",
       "0          Buffet    Banashankari  \n",
       "1          Buffet    Banashankari  \n",
       "2          Buffet    Banashankari  \n",
       "3          Buffet    Banashankari  \n",
       "4          Buffet    Banashankari  "
      ]
     },
     "execution_count": 4,
     "metadata": {},
     "output_type": "execute_result"
    }
   ],
   "source": [
    "df.head()"
   ]
  },
  {
   "cell_type": "code",
   "execution_count": 5,
   "id": "19b52b95",
   "metadata": {
    "execution": {
     "iopub.execute_input": "2023-08-05T17:53:35.568826Z",
     "iopub.status.busy": "2023-08-05T17:53:35.568319Z",
     "iopub.status.idle": "2023-08-05T17:53:35.860138Z",
     "shell.execute_reply": "2023-08-05T17:53:35.858357Z"
    },
    "papermill": {
     "duration": 0.308753,
     "end_time": "2023-08-05T17:53:35.862960",
     "exception": false,
     "start_time": "2023-08-05T17:53:35.554207",
     "status": "completed"
    },
    "tags": []
   },
   "outputs": [
    {
     "name": "stdout",
     "output_type": "stream",
     "text": [
      "<class 'pandas.core.frame.DataFrame'>\n",
      "RangeIndex: 51717 entries, 0 to 51716\n",
      "Data columns (total 17 columns):\n",
      " #   Column                       Non-Null Count  Dtype \n",
      "---  ------                       --------------  ----- \n",
      " 0   url                          51717 non-null  object\n",
      " 1   address                      51717 non-null  object\n",
      " 2   name                         51717 non-null  object\n",
      " 3   online_order                 51717 non-null  object\n",
      " 4   book_table                   51717 non-null  object\n",
      " 5   rate                         43942 non-null  object\n",
      " 6   votes                        51717 non-null  int64 \n",
      " 7   phone                        50509 non-null  object\n",
      " 8   location                     51696 non-null  object\n",
      " 9   rest_type                    51490 non-null  object\n",
      " 10  dish_liked                   23639 non-null  object\n",
      " 11  cuisines                     51672 non-null  object\n",
      " 12  approx_cost(for two people)  51371 non-null  object\n",
      " 13  reviews_list                 51717 non-null  object\n",
      " 14  menu_item                    51717 non-null  object\n",
      " 15  listed_in(type)              51717 non-null  object\n",
      " 16  listed_in(city)              51717 non-null  object\n",
      "dtypes: int64(1), object(16)\n",
      "memory usage: 6.7+ MB\n"
     ]
    }
   ],
   "source": [
    "df.info()"
   ]
  },
  {
   "cell_type": "code",
   "execution_count": 6,
   "id": "5c8f6b14",
   "metadata": {
    "execution": {
     "iopub.execute_input": "2023-08-05T17:53:35.890341Z",
     "iopub.status.busy": "2023-08-05T17:53:35.889931Z",
     "iopub.status.idle": "2023-08-05T17:53:35.905240Z",
     "shell.execute_reply": "2023-08-05T17:53:35.904225Z"
    },
    "papermill": {
     "duration": 0.031817,
     "end_time": "2023-08-05T17:53:35.907661",
     "exception": false,
     "start_time": "2023-08-05T17:53:35.875844",
     "status": "completed"
    },
    "tags": []
   },
   "outputs": [],
   "source": [
    "df.drop(columns=[\"url\",\"address\",\"phone\",\"menu_item\"],inplace=True)"
   ]
  },
  {
   "cell_type": "code",
   "execution_count": 7,
   "id": "7b27be34",
   "metadata": {
    "execution": {
     "iopub.execute_input": "2023-08-05T17:53:35.935924Z",
     "iopub.status.busy": "2023-08-05T17:53:35.934697Z",
     "iopub.status.idle": "2023-08-05T17:53:36.148791Z",
     "shell.execute_reply": "2023-08-05T17:53:36.146975Z"
    },
    "papermill": {
     "duration": 0.231831,
     "end_time": "2023-08-05T17:53:36.152341",
     "exception": false,
     "start_time": "2023-08-05T17:53:35.920510",
     "status": "completed"
    },
    "tags": []
   },
   "outputs": [
    {
     "name": "stdout",
     "output_type": "stream",
     "text": [
      "<class 'pandas.core.frame.DataFrame'>\n",
      "RangeIndex: 51717 entries, 0 to 51716\n",
      "Data columns (total 13 columns):\n",
      " #   Column                       Non-Null Count  Dtype \n",
      "---  ------                       --------------  ----- \n",
      " 0   name                         51717 non-null  object\n",
      " 1   online_order                 51717 non-null  object\n",
      " 2   book_table                   51717 non-null  object\n",
      " 3   rate                         43942 non-null  object\n",
      " 4   votes                        51717 non-null  int64 \n",
      " 5   location                     51696 non-null  object\n",
      " 6   rest_type                    51490 non-null  object\n",
      " 7   dish_liked                   23639 non-null  object\n",
      " 8   cuisines                     51672 non-null  object\n",
      " 9   approx_cost(for two people)  51371 non-null  object\n",
      " 10  reviews_list                 51717 non-null  object\n",
      " 11  listed_in(type)              51717 non-null  object\n",
      " 12  listed_in(city)              51717 non-null  object\n",
      "dtypes: int64(1), object(12)\n",
      "memory usage: 5.1+ MB\n"
     ]
    }
   ],
   "source": [
    "df.info()"
   ]
  },
  {
   "cell_type": "markdown",
   "id": "d8608f86",
   "metadata": {
    "papermill": {
     "duration": 0.018499,
     "end_time": "2023-08-05T17:53:36.189884",
     "exception": false,
     "start_time": "2023-08-05T17:53:36.171385",
     "status": "completed"
    },
    "tags": []
   },
   "source": [
    "## 3. Cleaning the data "
   ]
  },
  {
   "cell_type": "code",
   "execution_count": 8,
   "id": "9e90a96d",
   "metadata": {
    "execution": {
     "iopub.execute_input": "2023-08-05T17:53:36.224344Z",
     "iopub.status.busy": "2023-08-05T17:53:36.223173Z",
     "iopub.status.idle": "2023-08-05T17:53:39.473667Z",
     "shell.execute_reply": "2023-08-05T17:53:39.472259Z"
    },
    "papermill": {
     "duration": 3.269725,
     "end_time": "2023-08-05T17:53:39.476707",
     "exception": false,
     "start_time": "2023-08-05T17:53:36.206982",
     "status": "completed"
    },
    "tags": []
   },
   "outputs": [],
   "source": [
    "df.duplicated().sum()\n",
    "df.drop_duplicates(inplace=True)"
   ]
  },
  {
   "cell_type": "code",
   "execution_count": 9,
   "id": "e7d4e2d3",
   "metadata": {
    "execution": {
     "iopub.execute_input": "2023-08-05T17:53:39.504618Z",
     "iopub.status.busy": "2023-08-05T17:53:39.504184Z",
     "iopub.status.idle": "2023-08-05T17:53:39.710243Z",
     "shell.execute_reply": "2023-08-05T17:53:39.708775Z"
    },
    "papermill": {
     "duration": 0.223042,
     "end_time": "2023-08-05T17:53:39.712813",
     "exception": false,
     "start_time": "2023-08-05T17:53:39.489771",
     "status": "completed"
    },
    "tags": []
   },
   "outputs": [
    {
     "data": {
      "text/plain": [
       "name                               0\n",
       "online_order                       0\n",
       "book_table                         0\n",
       "rate                            7757\n",
       "votes                              0\n",
       "location                          21\n",
       "rest_type                        227\n",
       "dish_liked                     28019\n",
       "cuisines                          45\n",
       "approx_cost(for two people)      345\n",
       "reviews_list                       0\n",
       "listed_in(type)                    0\n",
       "listed_in(city)                    0\n",
       "dtype: int64"
      ]
     },
     "execution_count": 9,
     "metadata": {},
     "output_type": "execute_result"
    }
   ],
   "source": [
    "df.isnull().sum()"
   ]
  },
  {
   "cell_type": "code",
   "execution_count": 10,
   "id": "6bccd3e3",
   "metadata": {
    "execution": {
     "iopub.execute_input": "2023-08-05T17:53:39.741397Z",
     "iopub.status.busy": "2023-08-05T17:53:39.740569Z",
     "iopub.status.idle": "2023-08-05T17:53:39.748976Z",
     "shell.execute_reply": "2023-08-05T17:53:39.747966Z"
    },
    "papermill": {
     "duration": 0.025628,
     "end_time": "2023-08-05T17:53:39.751609",
     "exception": false,
     "start_time": "2023-08-05T17:53:39.725981",
     "status": "completed"
    },
    "tags": []
   },
   "outputs": [
    {
     "data": {
      "text/plain": [
       "0         4.1/5\n",
       "1         4.1/5\n",
       "2         3.8/5\n",
       "3         3.7/5\n",
       "4         3.8/5\n",
       "          ...  \n",
       "51712    3.6 /5\n",
       "51713       NaN\n",
       "51714       NaN\n",
       "51715    4.3 /5\n",
       "51716    3.4 /5\n",
       "Name: rate, Length: 51645, dtype: object"
      ]
     },
     "execution_count": 10,
     "metadata": {},
     "output_type": "execute_result"
    }
   ],
   "source": [
    "df[\"rate\"]"
   ]
  },
  {
   "cell_type": "markdown",
   "id": "dfbb2973",
   "metadata": {
    "execution": {
     "iopub.execute_input": "2023-08-05T16:13:03.792946Z",
     "iopub.status.busy": "2023-08-05T16:13:03.792575Z",
     "iopub.status.idle": "2023-08-05T16:13:03.797656Z",
     "shell.execute_reply": "2023-08-05T16:13:03.796480Z",
     "shell.execute_reply.started": "2023-08-05T16:13:03.792918Z"
    },
    "papermill": {
     "duration": 0.013213,
     "end_time": "2023-08-05T17:53:39.778370",
     "exception": false,
     "start_time": "2023-08-05T17:53:39.765157",
     "status": "completed"
    },
    "tags": []
   },
   "source": [
    "Now we can see there are many values that are null in columns rate,location,rest_type,dish_liked"
   ]
  },
  {
   "cell_type": "markdown",
   "id": "57f511f0",
   "metadata": {
    "execution": {
     "iopub.execute_input": "2023-08-05T16:19:56.127295Z",
     "iopub.status.busy": "2023-08-05T16:19:56.126888Z",
     "iopub.status.idle": "2023-08-05T16:19:56.131792Z",
     "shell.execute_reply": "2023-08-05T16:19:56.130900Z",
     "shell.execute_reply.started": "2023-08-05T16:19:56.127254Z"
    },
    "papermill": {
     "duration": 0.012582,
     "end_time": "2023-08-05T17:53:39.804191",
     "exception": false,
     "start_time": "2023-08-05T17:53:39.791609",
     "status": "completed"
    },
    "tags": []
   },
   "source": [
    " df[\"rate\"] column contain NAN values and is given by number/5 so we need to seperate it and convert it into float"
   ]
  },
  {
   "cell_type": "code",
   "execution_count": 11,
   "id": "2f3daf37",
   "metadata": {
    "execution": {
     "iopub.execute_input": "2023-08-05T17:53:39.832682Z",
     "iopub.status.busy": "2023-08-05T17:53:39.831828Z",
     "iopub.status.idle": "2023-08-05T17:53:39.897375Z",
     "shell.execute_reply": "2023-08-05T17:53:39.896414Z"
    },
    "papermill": {
     "duration": 0.082708,
     "end_time": "2023-08-05T17:53:39.900017",
     "exception": false,
     "start_time": "2023-08-05T17:53:39.817309",
     "status": "completed"
    },
    "tags": []
   },
   "outputs": [],
   "source": [
    "def rate_clean(rate):\n",
    "    if(rate==\"NEW\" or rate==\"-\"):\n",
    "        return np.nan\n",
    "    else:\n",
    "        rate = str(rate).split(\"/\")[0]\n",
    "        return float(rate)\n",
    "df[\"rate\"] = df[\"rate\"].apply(rate_clean)"
   ]
  },
  {
   "cell_type": "code",
   "execution_count": 12,
   "id": "ed3dec9a",
   "metadata": {
    "execution": {
     "iopub.execute_input": "2023-08-05T17:53:39.928219Z",
     "iopub.status.busy": "2023-08-05T17:53:39.927543Z",
     "iopub.status.idle": "2023-08-05T17:53:39.937025Z",
     "shell.execute_reply": "2023-08-05T17:53:39.935593Z"
    },
    "papermill": {
     "duration": 0.026744,
     "end_time": "2023-08-05T17:53:39.939785",
     "exception": false,
     "start_time": "2023-08-05T17:53:39.913041",
     "status": "completed"
    },
    "tags": []
   },
   "outputs": [
    {
     "data": {
      "text/plain": [
       "0    4.1\n",
       "1    4.1\n",
       "2    3.8\n",
       "3    3.7\n",
       "4    3.8\n",
       "Name: rate, dtype: float64"
      ]
     },
     "execution_count": 12,
     "metadata": {},
     "output_type": "execute_result"
    }
   ],
   "source": [
    "df[\"rate\"].head()"
   ]
  },
  {
   "cell_type": "markdown",
   "id": "0f244225",
   "metadata": {
    "papermill": {
     "duration": 0.01276,
     "end_time": "2023-08-05T17:53:39.965872",
     "exception": false,
     "start_time": "2023-08-05T17:53:39.953112",
     "status": "completed"
    },
    "tags": []
   },
   "source": [
    "## 4. No of unique values"
   ]
  },
  {
   "cell_type": "markdown",
   "id": "1d489408",
   "metadata": {
    "execution": {
     "iopub.execute_input": "2023-08-05T16:28:14.477076Z",
     "iopub.status.busy": "2023-08-05T16:28:14.476615Z",
     "iopub.status.idle": "2023-08-05T16:28:14.487371Z",
     "shell.execute_reply": "2023-08-05T16:28:14.486142Z",
     "shell.execute_reply.started": "2023-08-05T16:28:14.477036Z"
    },
    "papermill": {
     "duration": 0.0127,
     "end_time": "2023-08-05T17:53:39.991669",
     "exception": false,
     "start_time": "2023-08-05T17:53:39.978969",
     "status": "completed"
    },
    "tags": []
   },
   "source": [
    "4.1 No of unique values in location"
   ]
  },
  {
   "cell_type": "code",
   "execution_count": 13,
   "id": "4cef182d",
   "metadata": {
    "execution": {
     "iopub.execute_input": "2023-08-05T17:53:40.020048Z",
     "iopub.status.busy": "2023-08-05T17:53:40.019616Z",
     "iopub.status.idle": "2023-08-05T17:53:40.032506Z",
     "shell.execute_reply": "2023-08-05T17:53:40.031253Z"
    },
    "papermill": {
     "duration": 0.030012,
     "end_time": "2023-08-05T17:53:40.034924",
     "exception": false,
     "start_time": "2023-08-05T17:53:40.004912",
     "status": "completed"
    },
    "tags": []
   },
   "outputs": [
    {
     "data": {
      "text/plain": [
       "array(['Banashankari', 'Basavanagudi', 'Mysore Road', 'Jayanagar',\n",
       "       'Kumaraswamy Layout', 'Rajarajeshwari Nagar', 'Vijay Nagar',\n",
       "       'Uttarahalli', 'JP Nagar', 'South Bangalore', 'City Market',\n",
       "       'Nagarbhavi', 'Bannerghatta Road', 'BTM', 'Kanakapura Road',\n",
       "       'Bommanahalli', nan, 'CV Raman Nagar', 'Electronic City', 'HSR',\n",
       "       'Marathahalli', 'Sarjapur Road', 'Wilson Garden', 'Shanti Nagar',\n",
       "       'Koramangala 5th Block', 'Koramangala 8th Block', 'Richmond Road',\n",
       "       'Koramangala 7th Block', 'Jalahalli', 'Koramangala 4th Block',\n",
       "       'Bellandur', 'Whitefield', 'East Bangalore', 'Old Airport Road',\n",
       "       'Indiranagar', 'Koramangala 1st Block', 'Frazer Town', 'RT Nagar',\n",
       "       'MG Road', 'Brigade Road', 'Lavelle Road', 'Church Street',\n",
       "       'Ulsoor', 'Residency Road', 'Shivajinagar', 'Infantry Road',\n",
       "       'St. Marks Road', 'Cunningham Road', 'Race Course Road',\n",
       "       'Commercial Street', 'Vasanth Nagar', 'HBR Layout', 'Domlur',\n",
       "       'Ejipura', 'Jeevan Bhima Nagar', 'Old Madras Road', 'Malleshwaram',\n",
       "       'Seshadripuram', 'Kammanahalli', 'Koramangala 6th Block',\n",
       "       'Majestic', 'Langford Town', 'Central Bangalore', 'Sanjay Nagar',\n",
       "       'Brookefield', 'ITPL Main Road, Whitefield',\n",
       "       'Varthur Main Road, Whitefield', 'KR Puram',\n",
       "       'Koramangala 2nd Block', 'Koramangala 3rd Block', 'Koramangala',\n",
       "       'Hosur Road', 'Rajajinagar', 'Banaswadi', 'North Bangalore',\n",
       "       'Nagawara', 'Hennur', 'Kalyan Nagar', 'New BEL Road', 'Jakkur',\n",
       "       'Rammurthy Nagar', 'Thippasandra', 'Kaggadasapura', 'Hebbal',\n",
       "       'Kengeri', 'Sankey Road', 'Sadashiv Nagar', 'Basaveshwara Nagar',\n",
       "       'Yeshwantpur', 'West Bangalore', 'Magadi Road', 'Yelahanka',\n",
       "       'Sahakara Nagar', 'Peenya'], dtype=object)"
      ]
     },
     "execution_count": 13,
     "metadata": {},
     "output_type": "execute_result"
    }
   ],
   "source": [
    "df[\"location\"].unique()"
   ]
  },
  {
   "cell_type": "code",
   "execution_count": 14,
   "id": "7f9ea8ef",
   "metadata": {
    "execution": {
     "iopub.execute_input": "2023-08-05T17:53:40.063882Z",
     "iopub.status.busy": "2023-08-05T17:53:40.063140Z",
     "iopub.status.idle": "2023-08-05T17:53:40.074802Z",
     "shell.execute_reply": "2023-08-05T17:53:40.073387Z"
    },
    "papermill": {
     "duration": 0.02919,
     "end_time": "2023-08-05T17:53:40.077537",
     "exception": false,
     "start_time": "2023-08-05T17:53:40.048347",
     "status": "completed"
    },
    "tags": []
   },
   "outputs": [
    {
     "data": {
      "text/plain": [
       "0          800\n",
       "1          800\n",
       "2          800\n",
       "3          300\n",
       "4          600\n",
       "         ...  \n",
       "51712    1,500\n",
       "51713      600\n",
       "51714    2,000\n",
       "51715    2,500\n",
       "51716    1,500\n",
       "Name: approx_cost(for two people), Length: 51645, dtype: object"
      ]
     },
     "execution_count": 14,
     "metadata": {},
     "output_type": "execute_result"
    }
   ],
   "source": [
    "df[\"approx_cost(for two people)\"]"
   ]
  },
  {
   "cell_type": "code",
   "execution_count": 15,
   "id": "45113be3",
   "metadata": {
    "execution": {
     "iopub.execute_input": "2023-08-05T17:53:40.106918Z",
     "iopub.status.busy": "2023-08-05T17:53:40.106479Z",
     "iopub.status.idle": "2023-08-05T17:53:40.121758Z",
     "shell.execute_reply": "2023-08-05T17:53:40.120400Z"
    },
    "papermill": {
     "duration": 0.033146,
     "end_time": "2023-08-05T17:53:40.124401",
     "exception": false,
     "start_time": "2023-08-05T17:53:40.091255",
     "status": "completed"
    },
    "tags": []
   },
   "outputs": [],
   "source": [
    "df[\"approx_cost(for two people)\"] = df[\"approx_cost(for two people)\"].astype(str)"
   ]
  },
  {
   "cell_type": "code",
   "execution_count": 16,
   "id": "d2fc22b2",
   "metadata": {
    "execution": {
     "iopub.execute_input": "2023-08-05T17:53:40.154294Z",
     "iopub.status.busy": "2023-08-05T17:53:40.153885Z",
     "iopub.status.idle": "2023-08-05T17:53:40.163809Z",
     "shell.execute_reply": "2023-08-05T17:53:40.162717Z"
    },
    "papermill": {
     "duration": 0.027936,
     "end_time": "2023-08-05T17:53:40.166233",
     "exception": false,
     "start_time": "2023-08-05T17:53:40.138297",
     "status": "completed"
    },
    "tags": []
   },
   "outputs": [
    {
     "data": {
      "text/plain": [
       "0          800\n",
       "1          800\n",
       "2          800\n",
       "3          300\n",
       "4          600\n",
       "         ...  \n",
       "51712    1,500\n",
       "51713      600\n",
       "51714    2,000\n",
       "51715    2,500\n",
       "51716    1,500\n",
       "Name: approx_cost(for two people), Length: 51645, dtype: object"
      ]
     },
     "execution_count": 16,
     "metadata": {},
     "output_type": "execute_result"
    }
   ],
   "source": [
    "df[\"approx_cost(for two people)\"]"
   ]
  },
  {
   "cell_type": "code",
   "execution_count": 17,
   "id": "ad878dd5",
   "metadata": {
    "execution": {
     "iopub.execute_input": "2023-08-05T17:53:40.195693Z",
     "iopub.status.busy": "2023-08-05T17:53:40.195250Z",
     "iopub.status.idle": "2023-08-05T17:53:40.275800Z",
     "shell.execute_reply": "2023-08-05T17:53:40.274365Z"
    },
    "papermill": {
     "duration": 0.098311,
     "end_time": "2023-08-05T17:53:40.278460",
     "exception": false,
     "start_time": "2023-08-05T17:53:40.180149",
     "status": "completed"
    },
    "tags": []
   },
   "outputs": [
    {
     "name": "stdout",
     "output_type": "stream",
     "text": [
      "Rating of Table Booking Orders is = 4.14 \n",
      "\n",
      "Rating of No Table Booking Orders is = 3.62\n"
     ]
    }
   ],
   "source": [
    "# replace NAN with mean value\n",
    "df['rate'].fillna(0)\n",
    "df['rate'] = pd.to_numeric(df[\"rate\"], downcast=\"float\")\n",
    "\n",
    "df['rate'].replace(to_replace = 0, value = df['rate'].mean(), inplace=True)\n",
    "\n",
    "#booking table rating\n",
    "\n",
    "table_booking_rating_avg = df[df['book_table'] == 'Yes']['rate'].mean()\n",
    "table_booking_rating_avg = round(table_booking_rating_avg,2)\n",
    "print('Rating of Table Booking Orders is =',table_booking_rating_avg,'\\n')\n",
    "# non booking ratings\n",
    "\n",
    "no_booking_rating_avg = df[df['book_table'] == 'No']['rate'].mean()\n",
    "no_booking_rating_avg = round(no_booking_rating_avg,2)\n",
    "print('Rating of No Table Booking Orders is =',no_booking_rating_avg)"
   ]
  },
  {
   "cell_type": "code",
   "execution_count": 18,
   "id": "9ffe655d",
   "metadata": {
    "execution": {
     "iopub.execute_input": "2023-08-05T17:53:40.308128Z",
     "iopub.status.busy": "2023-08-05T17:53:40.307740Z",
     "iopub.status.idle": "2023-08-05T17:53:40.682841Z",
     "shell.execute_reply": "2023-08-05T17:53:40.681857Z"
    },
    "papermill": {
     "duration": 0.393284,
     "end_time": "2023-08-05T17:53:40.685665",
     "exception": false,
     "start_time": "2023-08-05T17:53:40.292381",
     "status": "completed"
    },
    "tags": []
   },
   "outputs": [],
   "source": [
    "df.isnull().sum()\n",
    "df.dropna(inplace=True)"
   ]
  },
  {
   "cell_type": "code",
   "execution_count": 19,
   "id": "8df93e8d",
   "metadata": {
    "execution": {
     "iopub.execute_input": "2023-08-05T17:53:40.718028Z",
     "iopub.status.busy": "2023-08-05T17:53:40.717598Z",
     "iopub.status.idle": "2023-08-05T17:53:40.810334Z",
     "shell.execute_reply": "2023-08-05T17:53:40.809093Z"
    },
    "papermill": {
     "duration": 0.11152,
     "end_time": "2023-08-05T17:53:40.812934",
     "exception": false,
     "start_time": "2023-08-05T17:53:40.701414",
     "status": "completed"
    },
    "tags": []
   },
   "outputs": [
    {
     "data": {
      "text/plain": [
       "name                           0\n",
       "online_order                   0\n",
       "book_table                     0\n",
       "rate                           0\n",
       "votes                          0\n",
       "location                       0\n",
       "rest_type                      0\n",
       "dish_liked                     0\n",
       "cuisines                       0\n",
       "approx_cost(for two people)    0\n",
       "reviews_list                   0\n",
       "listed_in(type)                0\n",
       "listed_in(city)                0\n",
       "dtype: int64"
      ]
     },
     "execution_count": 19,
     "metadata": {},
     "output_type": "execute_result"
    }
   ],
   "source": [
    "df.isnull().sum()"
   ]
  },
  {
   "cell_type": "markdown",
   "id": "432d33d0",
   "metadata": {
    "papermill": {
     "duration": 0.013917,
     "end_time": "2023-08-05T17:53:40.841188",
     "exception": false,
     "start_time": "2023-08-05T17:53:40.827271",
     "status": "completed"
    },
    "tags": []
   },
   "source": [
    "## 5. Now Visualizing the Data"
   ]
  },
  {
   "cell_type": "code",
   "execution_count": 20,
   "id": "dc6c6245",
   "metadata": {
    "execution": {
     "iopub.execute_input": "2023-08-05T17:53:40.871434Z",
     "iopub.status.busy": "2023-08-05T17:53:40.871027Z",
     "iopub.status.idle": "2023-08-05T17:53:41.359677Z",
     "shell.execute_reply": "2023-08-05T17:53:41.358396Z"
    },
    "papermill": {
     "duration": 0.507146,
     "end_time": "2023-08-05T17:53:41.362488",
     "exception": false,
     "start_time": "2023-08-05T17:53:40.855342",
     "status": "completed"
    },
    "tags": []
   },
   "outputs": [
    {
     "data": {
      "image/png": "[encoded data removed]",
      "text/plain": [
       "<Figure size 1000x600 with 1 Axes>"
      ]
     },
     "metadata": {},
     "output_type": "display_data"
    }
   ],
   "source": [
    "## FINDING TOP 10 Restaurants with Rating on basis of rating\n",
    "plt.style.use(\"Solarize_Light2\")\n",
    "x = df[\"name\"].value_counts().sort_values(ascending=False)[:10]\n",
    "y = x.index \n",
    "plt.figure(figsize=(10,6))\n",
    "sns.barplot(x=x,y=y)\n",
    "plt.xlabel(\"No of SALES\")\n",
    "plt.ylabel(\"Restaurants\")\n",
    "plt.title(\"Top 10 Restaurants - WITH SALES COUNTS\",color=\"black\");"
   ]
  },
  {
   "cell_type": "code",
   "execution_count": 21,
   "id": "c63b700b",
   "metadata": {
    "execution": {
     "iopub.execute_input": "2023-08-05T17:53:41.394882Z",
     "iopub.status.busy": "2023-08-05T17:53:41.394416Z",
     "iopub.status.idle": "2023-08-05T17:53:41.559193Z",
     "shell.execute_reply": "2023-08-05T17:53:41.557338Z"
    },
    "papermill": {
     "duration": 0.186115,
     "end_time": "2023-08-05T17:53:41.564266",
     "exception": false,
     "start_time": "2023-08-05T17:53:41.378151",
     "status": "completed"
    },
    "tags": []
   },
   "outputs": [
    {
     "data": {
      "image/png": "[encoded data removed]",
      "text/plain": [
       "<Figure size 640x480 with 1 Axes>"
      ]
     },
     "metadata": {},
     "output_type": "display_data"
    }
   ],
   "source": [
    "## Pie plots with counts of online order\n",
    "\n",
    "plt.style.use(\"Solarize_Light2\")\n",
    "x = df[\"online_order\"].value_counts()\n",
    "y = x.index\n",
    "plt.pie(x=x, labels=y, autopct='%.0f%%')\n",
    "plt.title(\"Online order Percentage\",color=\"black\");\n"
   ]
  },
  {
   "cell_type": "code",
   "execution_count": 22,
   "id": "9ecce42d",
   "metadata": {
    "execution": {
     "iopub.execute_input": "2023-08-05T17:53:41.629055Z",
     "iopub.status.busy": "2023-08-05T17:53:41.627446Z",
     "iopub.status.idle": "2023-08-05T17:53:41.832753Z",
     "shell.execute_reply": "2023-08-05T17:53:41.831035Z"
    },
    "papermill": {
     "duration": 0.240703,
     "end_time": "2023-08-05T17:53:41.837510",
     "exception": false,
     "start_time": "2023-08-05T17:53:41.596807",
     "status": "completed"
    },
    "tags": []
   },
   "outputs": [
    {
     "data": {
      "text/plain": [
       "<matplotlib.legend.Legend at 0x7ae86e438d30>"
      ]
     },
     "execution_count": 22,
     "metadata": {},
     "output_type": "execute_result"
    },
    {
     "data": {
      "image/png": "[encoded data removed]",
      "text/plain": [
       "<Figure size 640x480 with 1 Axes>"
      ]
     },
     "metadata": {},
     "output_type": "display_data"
    }
   ],
   "source": [
    "## Pie plots with counts of book_table\n",
    "plt.style.use(\"Solarize_Light2\")\n",
    "x = df[\"book_table\"].value_counts()\n",
    "y = x.index\n",
    "colors = ['#99ff99','#ffcc99']\n",
    "plt.pie(x=x, labels=y, autopct='%.0f%%',colors=colors)\n",
    "plt.title(\"BOOK table Percentage\",color=\"black\")\n",
    "plt.legend(y, loc=\"best\")"
   ]
  },
  {
   "cell_type": "markdown",
   "id": "33bfee7d",
   "metadata": {
    "papermill": {
     "duration": 0.017534,
     "end_time": "2023-08-05T17:53:41.890048",
     "exception": false,
     "start_time": "2023-08-05T17:53:41.872514",
     "status": "completed"
    },
    "tags": []
   },
   "source": [
    "## Top 10 liked dishes"
   ]
  },
  {
   "cell_type": "code",
   "execution_count": 23,
   "id": "9e305acf",
   "metadata": {
    "execution": {
     "iopub.execute_input": "2023-08-05T17:53:41.923996Z",
     "iopub.status.busy": "2023-08-05T17:53:41.923203Z",
     "iopub.status.idle": "2023-08-05T17:53:42.305968Z",
     "shell.execute_reply": "2023-08-05T17:53:42.304954Z"
    },
    "papermill": {
     "duration": 0.402459,
     "end_time": "2023-08-05T17:53:42.308462",
     "exception": false,
     "start_time": "2023-08-05T17:53:41.906003",
     "status": "completed"
    },
    "tags": []
   },
   "outputs": [
    {
     "data": {
      "text/plain": [
       "<Axes: xlabel='dish_liked'>"
      ]
     },
     "execution_count": 23,
     "metadata": {},
     "output_type": "execute_result"
    },
    {
     "data": {
      "image/png": "[encoded data removed]",
      "text/plain": [
       "<Figure size 1000x700 with 1 Axes>"
      ]
     },
     "metadata": {},
     "output_type": "display_data"
    }
   ],
   "source": [
    "x = df[\"dish_liked\"].value_counts()[:10].sort_values(ascending=False)\n",
    "y = x.index\n",
    "plt.figure(figsize=(10,7))\n",
    "sns.barplot(x=x,y=y)"
   ]
  },
  {
   "cell_type": "markdown",
   "id": "022b0b5c",
   "metadata": {
    "papermill": {
     "duration": 0.016197,
     "end_time": "2023-08-05T17:53:42.341662",
     "exception": false,
     "start_time": "2023-08-05T17:53:42.325465",
     "status": "completed"
    },
    "tags": []
   },
   "source": [
    "# Top 10 Cities"
   ]
  },
  {
   "cell_type": "code",
   "execution_count": 24,
   "id": "924bfdc6",
   "metadata": {
    "execution": {
     "iopub.execute_input": "2023-08-05T17:53:42.377495Z",
     "iopub.status.busy": "2023-08-05T17:53:42.376727Z",
     "iopub.status.idle": "2023-08-05T17:53:44.459946Z",
     "shell.execute_reply": "2023-08-05T17:53:44.458728Z"
    },
    "papermill": {
     "duration": 2.104756,
     "end_time": "2023-08-05T17:53:44.462871",
     "exception": false,
     "start_time": "2023-08-05T17:53:42.358115",
     "status": "completed"
    },
    "tags": []
   },
   "outputs": [
    {
     "data": {
      "text/html": [
       "        <script type=\"text/javascript\">\n",
       "        window.PlotlyConfig = {MathJaxConfig: 'local'};\n",
       "        if (window.MathJax && window.MathJax.Hub && window.MathJax.Hub.Config) {window.MathJax.Hub.Config({SVG: {font: \"STIX-Web\"}});}\n",
       "        if (typeof require !== 'undefined') {\n",
       "        require.undef(\"plotly\");\n",
       "        requirejs.config({\n",
       "            paths: {\n",
       "                'plotly': ['https://cdn.plot.ly/plotly-2.24.1.min']\n",
       "            }\n",
       "        });\n",
       "        require(['plotly'], function(Plotly) {\n",
       "            window._Plotly = Plotly;\n",
       "        });\n",
       "        }\n",
       "        </script>\n",
       "        "
      ]
     },
     "metadata": {},
     "output_type": "display_data"
    },
    {
     "data": {
      "text/html": [
       "<div>                            <div id=\"39787460-d5b9-4404-83a6-25e75e337edb\" class=\"plotly-graph-div\" style=\"height:525px; width:100%;\"></div>            <script type=\"text/javascript\">                require([\"plotly\"], function(Plotly) {                    window.PLOTLYENV=window.PLOTLYENV || {};                                    if (document.getElementById(\"39787460-d5b9-4404-83a6-25e75e337edb\")) {                    Plotly.newPlot(                        \"39787460-d5b9-4404-83a6-25e75e337edb\",                        [{\"alignmentgroup\":\"True\",\"hovertemplate\":\"Number of Cities=%{x}\\u003cbr\\u003eCities=%{y}\\u003cextra\\u003e\\u003c\\u002fextra\\u003e\",\"legendgroup\":\"\",\"marker\":{\"color\":\"#636efa\",\"pattern\":{\"shape\":\"\"}},\"name\":\"\",\"offsetgroup\":\"\",\"orientation\":\"h\",\"showlegend\":false,\"textposition\":\"auto\",\"x\":[969,986,1018,1025,1059,1262,1321,1356,1392,1424],\"xaxis\":\"x\",\"y\":[\"Brigade Road\",\"Church Street\",\"MG Road\",\"Indiranagar\",\"Jayanagar\",\"Koramangala 6th Block\",\"Koramangala 5th Block\",\"Koramangala 4th Block\",\"Koramangala 7th Block\",\"BTM\"],\"yaxis\":\"y\",\"type\":\"bar\"}],                        {\"template\":{\"data\":{\"histogram2dcontour\":[{\"type\":\"histogram2dcontour\",\"colorbar\":{\"outlinewidth\":0,\"ticks\":\"\"},\"colorscale\":[[0.0,\"#0d0887\"],[0.1111111111111111,\"#46039f\"],[0.2222222222222222,\"#7201a8\"],[0.3333333333333333,\"#9c179e\"],[0.4444444444444444,\"#bd3786\"],[0.5555555555555556,\"#d8576b\"],[0.6666666666666666,\"#ed7953\"],[0.7777777777777778,\"#fb9f3a\"],[0.8888888888888888,\"#fdca26\"],[1.0,\"#f0f921\"]]}],\"choropleth\":[{\"type\":\"choropleth\",\"colorbar\":{\"outlinewidth\":0,\"ticks\":\"\"}}],\"histogram2d\":[{\"type\":\"histogram2d\",\"colorbar\":{\"outlinewidth\":0,\"ticks\":\"\"},\"colorscale\":[[0.0,\"#0d0887\"],[0.1111111111111111,\"#46039f\"],[0.2222222222222222,\"#7201a8\"],[0.3333333333333333,\"#9c179e\"],[0.4444444444444444,\"#bd3786\"],[0.5555555555555556,\"#d8576b\"],[0.6666666666666666,\"#ed7953\"],[0.7777777777777778,\"#fb9f3a\"],[0.8888888888888888,\"#fdca26\"],[1.0,\"#f0f921\"]]}],\"heatmap\":[{\"type\":\"heatmap\",\"colorbar\":{\"outlinewidth\":0,\"ticks\":\"\"},\"colorscale\":[[0.0,\"#0d0887\"],[0.1111111111111111,\"#46039f\"],[0.2222222222222222,\"#7201a8\"],[0.3333333333333333,\"#9c179e\"],[0.4444444444444444,\"#bd3786\"],[0.5555555555555556,\"#d8576b\"],[0.6666666666666666,\"#ed7953\"],[0.7777777777777778,\"#fb9f3a\"],[0.8888888888888888,\"#fdca26\"],[1.0,\"#f0f921\"]]}],\"heatmapgl\":[{\"type\":\"heatmapgl\",\"colorbar\":{\"outlinewidth\":0,\"ticks\":\"\"},\"colorscale\":[[0.0,\"#0d0887\"],[0.1111111111111111,\"#46039f\"],[0.2222222222222222,\"#7201a8\"],[0.3333333333333333,\"#9c179e\"],[0.4444444444444444,\"#bd3786\"],[0.5555555555555556,\"#d8576b\"],[0.6666666666666666,\"#ed7953\"],[0.7777777777777778,\"#fb9f3a\"],[0.8888888888888888,\"#fdca26\"],[1.0,\"#f0f921\"]]}],\"contourcarpet\":[{\"type\":\"contourcarpet\",\"colorbar\":{\"outlinewidth\":0,\"ticks\":\"\"}}],\"contour\":[{\"type\":\"contour\",\"colorbar\":{\"outlinewidth\":0,\"ticks\":\"\"},\"colorscale\":[[0.0,\"#0d0887\"],[0.1111111111111111,\"#46039f\"],[0.2222222222222222,\"#7201a8\"],[0.3333333333333333,\"#9c179e\"],[0.4444444444444444,\"#bd3786\"],[0.5555555555555556,\"#d8576b\"],[0.6666666666666666,\"#ed7953\"],[0.7777777777777778,\"#fb9f3a\"],[0.8888888888888888,\"#fdca26\"],[1.0,\"#f0f921\"]]}],\"surface\":[{\"type\":\"surface\",\"colorbar\":{\"outlinewidth\":0,\"ticks\":\"\"},\"colorscale\":[[0.0,\"#0d0887\"],[0.1111111111111111,\"#46039f\"],[0.2222222222222222,\"#7201a8\"],[0.3333333333333333,\"#9c179e\"],[0.4444444444444444,\"#bd3786\"],[0.5555555555555556,\"#d8576b\"],[0.6666666666666666,\"#ed7953\"],[0.7777777777777778,\"#fb9f3a\"],[0.8888888888888888,\"#fdca26\"],[1.0,\"#f0f921\"]]}],\"mesh3d\":[{\"type\":\"mesh3d\",\"colorbar\":{\"outlinewidth\":0,\"ticks\":\"\"}}],\"scatter\":[{\"fillpattern\":{\"fillmode\":\"overlay\",\"size\":10,\"solidity\":0.2},\"type\":\"scatter\"}],\"parcoords\":[{\"type\":\"parcoords\",\"line\":{\"colorbar\":{\"outlinewidth\":0,\"ticks\":\"\"}}}],\"scatterpolargl\":[{\"type\":\"scatterpolargl\",\"marker\":{\"colorbar\":{\"outlinewidth\":0,\"ticks\":\"\"}}}],\"bar\":[{\"error_x\":{\"color\":\"#2a3f5f\"},\"error_y\":{\"color\":\"#2a3f5f\"},\"marker\":{\"line\":{\"color\":\"#E5ECF6\",\"width\":0.5},\"pattern\":{\"fillmode\":\"overlay\",\"size\":10,\"solidity\":0.2}},\"type\":\"bar\"}],\"scattergeo\":[{\"type\":\"scattergeo\",\"marker\":{\"colorbar\":{\"outlinewidth\":0,\"ticks\":\"\"}}}],\"scatterpolar\":[{\"type\":\"scatterpolar\",\"marker\":{\"colorbar\":{\"outlinewidth\":0,\"ticks\":\"\"}}}],\"histogram\":[{\"marker\":{\"pattern\":{\"fillmode\":\"overlay\",\"size\":10,\"solidity\":0.2}},\"type\":\"histogram\"}],\"scattergl\":[{\"type\":\"scattergl\",\"marker\":{\"colorbar\":{\"outlinewidth\":0,\"ticks\":\"\"}}}],\"scatter3d\":[{\"type\":\"scatter3d\",\"line\":{\"colorbar\":{\"outlinewidth\":0,\"ticks\":\"\"}},\"marker\":{\"colorbar\":{\"outlinewidth\":0,\"ticks\":\"\"}}}],\"scattermapbox\":[{\"type\":\"scattermapbox\",\"marker\":{\"colorbar\":{\"outlinewidth\":0,\"ticks\":\"\"}}}],\"scatterternary\":[{\"type\":\"scatterternary\",\"marker\":{\"colorbar\":{\"outlinewidth\":0,\"ticks\":\"\"}}}],\"scattercarpet\":[{\"type\":\"scattercarpet\",\"marker\":{\"colorbar\":{\"outlinewidth\":0,\"ticks\":\"\"}}}],\"carpet\":[{\"aaxis\":{\"endlinecolor\":\"#2a3f5f\",\"gridcolor\":\"white\",\"linecolor\":\"white\",\"minorgridcolor\":\"white\",\"startlinecolor\":\"#2a3f5f\"},\"baxis\":{\"endlinecolor\":\"#2a3f5f\",\"gridcolor\":\"white\",\"linecolor\":\"white\",\"minorgridcolor\":\"white\",\"startlinecolor\":\"#2a3f5f\"},\"type\":\"carpet\"}],\"table\":[{\"cells\":{\"fill\":{\"color\":\"#EBF0F8\"},\"line\":{\"color\":\"white\"}},\"header\":{\"fill\":{\"color\":\"#C8D4E3\"},\"line\":{\"color\":\"white\"}},\"type\":\"table\"}],\"barpolar\":[{\"marker\":{\"line\":{\"color\":\"#E5ECF6\",\"width\":0.5},\"pattern\":{\"fillmode\":\"overlay\",\"size\":10,\"solidity\":0.2}},\"type\":\"barpolar\"}],\"pie\":[{\"automargin\":true,\"type\":\"pie\"}]},\"layout\":{\"autotypenumbers\":\"strict\",\"colorway\":[\"#636efa\",\"#EF553B\",\"#00cc96\",\"#ab63fa\",\"#FFA15A\",\"#19d3f3\",\"#FF6692\",\"#B6E880\",\"#FF97FF\",\"#FECB52\"],\"font\":{\"color\":\"#2a3f5f\"},\"hovermode\":\"closest\",\"hoverlabel\":{\"align\":\"left\"},\"paper_bgcolor\":\"white\",\"plot_bgcolor\":\"#E5ECF6\",\"polar\":{\"bgcolor\":\"#E5ECF6\",\"angularaxis\":{\"gridcolor\":\"white\",\"linecolor\":\"white\",\"ticks\":\"\"},\"radialaxis\":{\"gridcolor\":\"white\",\"linecolor\":\"white\",\"ticks\":\"\"}},\"ternary\":{\"bgcolor\":\"#E5ECF6\",\"aaxis\":{\"gridcolor\":\"white\",\"linecolor\":\"white\",\"ticks\":\"\"},\"baxis\":{\"gridcolor\":\"white\",\"linecolor\":\"white\",\"ticks\":\"\"},\"caxis\":{\"gridcolor\":\"white\",\"linecolor\":\"white\",\"ticks\":\"\"}},\"coloraxis\":{\"colorbar\":{\"outlinewidth\":0,\"ticks\":\"\"}},\"colorscale\":{\"sequential\":[[0.0,\"#0d0887\"],[0.1111111111111111,\"#46039f\"],[0.2222222222222222,\"#7201a8\"],[0.3333333333333333,\"#9c179e\"],[0.4444444444444444,\"#bd3786\"],[0.5555555555555556,\"#d8576b\"],[0.6666666666666666,\"#ed7953\"],[0.7777777777777778,\"#fb9f3a\"],[0.8888888888888888,\"#fdca26\"],[1.0,\"#f0f921\"]],\"sequentialminus\":[[0.0,\"#0d0887\"],[0.1111111111111111,\"#46039f\"],[0.2222222222222222,\"#7201a8\"],[0.3333333333333333,\"#9c179e\"],[0.4444444444444444,\"#bd3786\"],[0.5555555555555556,\"#d8576b\"],[0.6666666666666666,\"#ed7953\"],[0.7777777777777778,\"#fb9f3a\"],[0.8888888888888888,\"#fdca26\"],[1.0,\"#f0f921\"]],\"diverging\":[[0,\"#8e0152\"],[0.1,\"#c51b7d\"],[0.2,\"#de77ae\"],[0.3,\"#f1b6da\"],[0.4,\"#fde0ef\"],[0.5,\"#f7f7f7\"],[0.6,\"#e6f5d0\"],[0.7,\"#b8e186\"],[0.8,\"#7fbc41\"],[0.9,\"#4d9221\"],[1,\"#276419\"]]},\"xaxis\":{\"gridcolor\":\"white\",\"linecolor\":\"white\",\"ticks\":\"\",\"title\":{\"standoff\":15},\"zerolinecolor\":\"white\",\"automargin\":true,\"zerolinewidth\":2},\"yaxis\":{\"gridcolor\":\"white\",\"linecolor\":\"white\",\"ticks\":\"\",\"title\":{\"standoff\":15},\"zerolinecolor\":\"white\",\"automargin\":true,\"zerolinewidth\":2},\"scene\":{\"xaxis\":{\"backgroundcolor\":\"#E5ECF6\",\"gridcolor\":\"white\",\"linecolor\":\"white\",\"showbackground\":true,\"ticks\":\"\",\"zerolinecolor\":\"white\",\"gridwidth\":2},\"yaxis\":{\"backgroundcolor\":\"#E5ECF6\",\"gridcolor\":\"white\",\"linecolor\":\"white\",\"showbackground\":true,\"ticks\":\"\",\"zerolinecolor\":\"white\",\"gridwidth\":2},\"zaxis\":{\"backgroundcolor\":\"#E5ECF6\",\"gridcolor\":\"white\",\"linecolor\":\"white\",\"showbackground\":true,\"ticks\":\"\",\"zerolinecolor\":\"white\",\"gridwidth\":2}},\"shapedefaults\":{\"line\":{\"color\":\"#2a3f5f\"}},\"annotationdefaults\":{\"arrowcolor\":\"#2a3f5f\",\"arrowhead\":0,\"arrowwidth\":1},\"geo\":{\"bgcolor\":\"white\",\"landcolor\":\"#E5ECF6\",\"subunitcolor\":\"white\",\"showland\":true,\"showlakes\":true,\"lakecolor\":\"white\"},\"title\":{\"x\":0.05},\"mapbox\":{\"style\":\"light\"}}},\"xaxis\":{\"anchor\":\"y\",\"domain\":[0.0,1.0],\"title\":{\"text\":\"Number of Cities\"}},\"yaxis\":{\"anchor\":\"x\",\"domain\":[0.0,1.0],\"title\":{\"text\":\"Cities\"}},\"legend\":{\"tracegroupgap\":0},\"title\":{\"text\":\"Cities\"},\"barmode\":\"relative\"},                        {\"responsive\": true}                    ).then(function(){\n",
       "                            \n",
       "var gd = document.getElementById('39787460-d5b9-4404-83a6-25e75e337edb');\n",
       "var x = new MutationObserver(function (mutations, observer) {{\n",
       "        var display = window.getComputedStyle(gd).display;\n",
       "        if (!display || display === 'none') {{\n",
       "            console.log([gd, 'removed!']);\n",
       "            Plotly.purge(gd);\n",
       "            observer.disconnect();\n",
       "        }}\n",
       "}});\n",
       "\n",
       "// Listen for the removal of the full notebook cells\n",
       "var notebookContainer = gd.closest('#notebook-container');\n",
       "if (notebookContainer) {{\n",
       "    x.observe(notebookContainer, {childList: true});\n",
       "}}\n",
       "\n",
       "// Listen for the clearing of the current output cell\n",
       "var outputEl = gd.closest('.output');\n",
       "if (outputEl) {{\n",
       "    x.observe(outputEl, {childList: true});\n",
       "}}\n",
       "\n",
       "                        })                };                });            </script>        </div>"
      ]
     },
     "metadata": {},
     "output_type": "display_data"
    }
   ],
   "source": [
    "plt.style.use(\"Solarize_Light2\")\n",
    "x=df[\"listed_in(city)\"].value_counts()[:10].sort_values()\n",
    "y=x.index\n",
    "fig=px.bar(x=x,y=y,labels={\"y\":\"Cities\",\"x\":\"Number of Cities\"},title=\"Cities\")\n",
    "fig.show()"
   ]
  },
  {
   "cell_type": "markdown",
   "id": "ec76df74",
   "metadata": {
    "papermill": {
     "duration": 0.016871,
     "end_time": "2023-08-05T17:53:44.496876",
     "exception": false,
     "start_time": "2023-08-05T17:53:44.480005",
     "status": "completed"
    },
    "tags": []
   },
   "source": [
    "## Top 10 locations"
   ]
  },
  {
   "cell_type": "code",
   "execution_count": 25,
   "id": "4be7f09f",
   "metadata": {
    "execution": {
     "iopub.execute_input": "2023-08-05T17:53:44.533520Z",
     "iopub.status.busy": "2023-08-05T17:53:44.532840Z",
     "iopub.status.idle": "2023-08-05T17:53:44.935670Z",
     "shell.execute_reply": "2023-08-05T17:53:44.934285Z"
    },
    "papermill": {
     "duration": 0.425194,
     "end_time": "2023-08-05T17:53:44.939406",
     "exception": false,
     "start_time": "2023-08-05T17:53:44.514212",
     "status": "completed"
    },
    "tags": []
   },
   "outputs": [
    {
     "data": {
      "text/plain": [
       "<Axes: xlabel='location'>"
      ]
     },
     "execution_count": 25,
     "metadata": {},
     "output_type": "execute_result"
    },
    {
     "data": {
      "image/png": "[encoded data removed]",
      "text/plain": [
       "<Figure size 1000x700 with 1 Axes>"
      ]
     },
     "metadata": {},
     "output_type": "display_data"
    }
   ],
   "source": [
    "plt.style.use(\"Solarize_Light2\")\n",
    "x = df[\"location\"].value_counts()[:10].sort_values(ascending = False)\n",
    "y = x.index\n",
    "plt.figure(figsize=(10,7))\n",
    "sns.barplot(x=x,y=y)"
   ]
  },
  {
   "cell_type": "markdown",
   "id": "9bdbc57b",
   "metadata": {
    "papermill": {
     "duration": 0.022428,
     "end_time": "2023-08-05T17:53:44.991152",
     "exception": false,
     "start_time": "2023-08-05T17:53:44.968724",
     "status": "completed"
    },
    "tags": []
   },
   "source": [
    "# Locations with least Value"
   ]
  },
  {
   "cell_type": "code",
   "execution_count": 26,
   "id": "bd8e2698",
   "metadata": {
    "execution": {
     "iopub.execute_input": "2023-08-05T17:53:45.032984Z",
     "iopub.status.busy": "2023-08-05T17:53:45.031763Z",
     "iopub.status.idle": "2023-08-05T17:53:45.432330Z",
     "shell.execute_reply": "2023-08-05T17:53:45.430860Z"
    },
    "papermill": {
     "duration": 0.423266,
     "end_time": "2023-08-05T17:53:45.435299",
     "exception": false,
     "start_time": "2023-08-05T17:53:45.012033",
     "status": "completed"
    },
    "tags": []
   },
   "outputs": [
    {
     "data": {
      "text/plain": [
       "<Axes: xlabel='location'>"
      ]
     },
     "execution_count": 26,
     "metadata": {},
     "output_type": "execute_result"
    },
    {
     "data": {
      "image/png": "[encoded data removed]",
      "text/plain": [
       "<Figure size 1000x700 with 1 Axes>"
      ]
     },
     "metadata": {},
     "output_type": "display_data"
    }
   ],
   "source": [
    "plt.style.use(\"Solarize_Light2\")\n",
    "x = df[\"location\"].value_counts()[-10:].sort_values(ascending = False)\n",
    "y = x.index\n",
    "plt.figure(figsize=(10,7))\n",
    "sns.barplot(x=x,y=y)"
   ]
  },
  {
   "cell_type": "markdown",
   "id": "59c080ed",
   "metadata": {
    "papermill": {
     "duration": 0.018483,
     "end_time": "2023-08-05T17:53:45.473863",
     "exception": false,
     "start_time": "2023-08-05T17:53:45.455380",
     "status": "completed"
    },
    "tags": []
   },
   "source": [
    "## Top 10 rest type"
   ]
  },
  {
   "cell_type": "code",
   "execution_count": 27,
   "id": "5e0d3449",
   "metadata": {
    "execution": {
     "iopub.execute_input": "2023-08-05T17:53:45.514790Z",
     "iopub.status.busy": "2023-08-05T17:53:45.513752Z",
     "iopub.status.idle": "2023-08-05T17:53:45.902800Z",
     "shell.execute_reply": "2023-08-05T17:53:45.901377Z"
    },
    "papermill": {
     "duration": 0.41395,
     "end_time": "2023-08-05T17:53:45.906511",
     "exception": false,
     "start_time": "2023-08-05T17:53:45.492561",
     "status": "completed"
    },
    "tags": []
   },
   "outputs": [
    {
     "data": {
      "text/plain": [
       "<Axes: xlabel='rest_type'>"
      ]
     },
     "execution_count": 27,
     "metadata": {},
     "output_type": "execute_result"
    },
    {
     "data": {
      "image/png": "[encoded data removed]",
      "text/plain": [
       "<Figure size 1000x700 with 1 Axes>"
      ]
     },
     "metadata": {},
     "output_type": "display_data"
    }
   ],
   "source": [
    "plt.style.use(\"Solarize_Light2\")\n",
    "x = df[\"rest_type\"].value_counts()[:10].sort_values(ascending = False)\n",
    "y = x.index\n",
    "plt.figure(figsize=(10,7))\n",
    "sns.barplot(x=x,y=y)"
   ]
  },
  {
   "cell_type": "code",
   "execution_count": null,
   "id": "be816ad5",
   "metadata": {
    "papermill": {
     "duration": 0.020244,
     "end_time": "2023-08-05T17:53:45.952510",
     "exception": false,
     "start_time": "2023-08-05T17:53:45.932266",
     "status": "completed"
    },
    "tags": []
   },
   "outputs": [],
   "source": []
  }
 ],
 "metadata": {
  "kernelspec": {
   "display_name": "Python 3",
   "language": "python",
   "name": "python3"
  },
  "language_info": {
   "codemirror_mode": {
    "name": "ipython",
    "version": 3
   },
   "file_extension": ".py",
   "mimetype": "text/x-python",
   "name": "python",
   "nbconvert_exporter": "python",
   "pygments_lexer": "ipython3",
   "version": "3.10.12"
  },
  "papermill": {
   "default_parameters": {},
   "duration": 40.824968,
   "end_time": "2023-08-05T17:53:48.231065",
   "environment_variables": {},
   "exception": null,
   "input_path": "__notebook__.ipynb",
   "output_path": "__notebook__.ipynb",
   "parameters": {},
   "start_time": "2023-08-05T17:53:07.406097",
   "version": "2.4.0"
  }
 },
 "nbformat": 4,
 "nbformat_minor": 5
}
